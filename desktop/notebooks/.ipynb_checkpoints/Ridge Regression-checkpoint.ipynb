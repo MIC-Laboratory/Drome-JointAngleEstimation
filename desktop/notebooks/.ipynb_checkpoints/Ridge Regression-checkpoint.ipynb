{
 "cells": [
  {
   "cell_type": "code",
   "execution_count": 7,
   "id": "b4d23ebd",
   "metadata": {},
   "outputs": [],
   "source": [
    "import sys\n",
    "sys.path.append(\"../\")\n",
    "from calculate_error import *\n",
    "from IPython.display import Markdown, display\n",
    "from sklearn.linear_model import Ridge"
   ]
  },
  {
   "cell_type": "code",
   "execution_count": 8,
   "id": "bccf4227",
   "metadata": {
    "scrolled": false
   },
   "outputs": [
    {
     "data": {
      "text/markdown": [
       "# Trying ridge regression with alpha 2.2166497623220467"
      ],
      "text/plain": [
       "<IPython.core.display.Markdown object>"
      ]
     },
     "metadata": {},
     "output_type": "display_data"
    },
    {
     "name": "stdout",
     "output_type": "stream",
     "text": [
      "Summary metrics for shoabd: {'AvgRMSE': 3.71, 'AvgMAE': 2.94}\n",
      "Summary metrics for shoflex: {'AvgRMSE': 6.69, 'AvgMAE': 5.1}\n",
      "Summary metrics for shoext: {'AvgRMSE': 2.81, 'AvgMAE': 2.41}\n",
      "Summary metrics for elbflex: {'AvgRMSE': 7.17, 'AvgMAE': 6.11}\n"
     ]
    },
    {
     "data": {
      "text/markdown": [
       "# Trying ridge regression with alpha 4.826679883012554"
      ],
      "text/plain": [
       "<IPython.core.display.Markdown object>"
      ]
     },
     "metadata": {},
     "output_type": "display_data"
    },
    {
     "name": "stdout",
     "output_type": "stream",
     "text": [
      "Summary metrics for shoabd: {'AvgRMSE': 3.35, 'AvgMAE': 2.74}\n",
      "Summary metrics for shoflex: {'AvgRMSE': 6.22, 'AvgMAE': 5.15}\n"
     ]
    },
    {
     "ename": "KeyboardInterrupt",
     "evalue": "",
     "output_type": "error",
     "traceback": [
      "\u001b[0;31m---------------------------------------------------------------------------\u001b[0m",
      "\u001b[0;31mKeyboardInterrupt\u001b[0m                         Traceback (most recent call last)",
      "\u001b[0;32m<ipython-input-8-103b5eec36ce>\u001b[0m in \u001b[0;36m<module>\u001b[0;34m\u001b[0m\n\u001b[1;32m     11\u001b[0m         \u001b[0mmodel_output_path\u001b[0m \u001b[0;34m=\u001b[0m \u001b[0mmovement_path\u001b[0m \u001b[0;34m+\u001b[0m \u001b[0;34m\"model/\"\u001b[0m\u001b[0;34m\u001b[0m\u001b[0;34m\u001b[0m\u001b[0m\n\u001b[1;32m     12\u001b[0m         \u001b[0mvicon_output_path\u001b[0m \u001b[0;34m=\u001b[0m \u001b[0mmovement_path\u001b[0m \u001b[0;34m+\u001b[0m \u001b[0;34m\"vicon/\"\u001b[0m\u001b[0;34m\u001b[0m\u001b[0;34m\u001b[0m\u001b[0m\n\u001b[0;32m---> 13\u001b[0;31m         \u001b[0mfiltered_trial_names\u001b[0m \u001b[0;34m=\u001b[0m \u001b[0mget_filtered_trials\u001b[0m\u001b[0;34m(\u001b[0m\u001b[0mmovement\u001b[0m\u001b[0;34m=\u001b[0m\u001b[0mmovement\u001b[0m\u001b[0;34m)\u001b[0m\u001b[0;34m\u001b[0m\u001b[0;34m\u001b[0m\u001b[0m\n\u001b[0m\u001b[1;32m     14\u001b[0m         \u001b[0mnum_trials\u001b[0m \u001b[0;34m=\u001b[0m \u001b[0mlen\u001b[0m\u001b[0;34m(\u001b[0m\u001b[0mfiltered_trial_names\u001b[0m\u001b[0;34m)\u001b[0m\u001b[0;34m\u001b[0m\u001b[0;34m\u001b[0m\u001b[0m\n\u001b[1;32m     15\u001b[0m \u001b[0;34m\u001b[0m\u001b[0m\n",
      "\u001b[0;32m/workspaces/JointAngleEstimation/calculate_error.py\u001b[0m in \u001b[0;36mget_filtered_trials\u001b[0;34m(movement)\u001b[0m\n\u001b[1;32m    144\u001b[0m     trial_names = [\n\u001b[1;32m    145\u001b[0m         \u001b[0mfilename\u001b[0m\u001b[0;34m.\u001b[0m\u001b[0mstrip\u001b[0m\u001b[0;34m(\u001b[0m\u001b[0;34m\".csv\"\u001b[0m\u001b[0;34m)\u001b[0m\u001b[0;34m\u001b[0m\u001b[0;34m\u001b[0m\u001b[0m\n\u001b[0;32m--> 146\u001b[0;31m         \u001b[0;32mfor\u001b[0m \u001b[0mfilename\u001b[0m \u001b[0;32min\u001b[0m \u001b[0mos\u001b[0m\u001b[0;34m.\u001b[0m\u001b[0mlistdir\u001b[0m\u001b[0;34m(\u001b[0m\u001b[0mmodel_output_path\u001b[0m\u001b[0;34m)\u001b[0m\u001b[0;34m\u001b[0m\u001b[0;34m\u001b[0m\u001b[0m\n\u001b[0m\u001b[1;32m    147\u001b[0m         \u001b[0;32mif\u001b[0m \u001b[0;34m\".csv\"\u001b[0m \u001b[0;32min\u001b[0m \u001b[0mfilename\u001b[0m\u001b[0;34m\u001b[0m\u001b[0;34m\u001b[0m\u001b[0m\n\u001b[1;32m    148\u001b[0m     ]\n",
      "\u001b[0;31mKeyboardInterrupt\u001b[0m: "
     ]
    }
   ],
   "source": [
    "collect_model_vicon_csvs()\n",
    "movements = next(os.walk(GEN_PATH))[1]\n",
    "\n",
    "for _ in range(20):\n",
    "    alpha = round(random.uniform(0, 5), 2)\n",
    "    display(Markdown(f\"# Trying ridge regression with alpha {alpha}\"))\n",
    "    for movement in movements:\n",
    "        assert movement in MOVEMENTS\n",
    "        movement_path = f\"{GEN_PATH}/{movement}/\"\n",
    "        # display(Markdown(f\"## Evaluating error for {movement}\\n\"))\n",
    "        model_output_path = movement_path + \"model/\"\n",
    "        vicon_output_path = movement_path + \"vicon/\"\n",
    "        filtered_trial_names = get_filtered_trials(movement=movement)\n",
    "        num_trials = len(filtered_trial_names)\n",
    "\n",
    "        random.shuffle(filtered_trial_names)\n",
    "        num_train_trials = round(\n",
    "            0.80 * num_trials\n",
    "        )  # assuming 80-20 split for train and test\n",
    "        train_trials = filtered_trial_names[:num_train_trials]\n",
    "        test_trials = filtered_trial_names[num_train_trials:]\n",
    "        train_trials.sort()\n",
    "        test_trials.sort()\n",
    "        xtrain, ytrain = [], []\n",
    "        reg = None\n",
    "        filtered_trial_names = train_trials + test_trials\n",
    "\n",
    "        summary = {\"AvgRMSE\": 0, \"AvgMAE\": 0}\n",
    "        for trial_num, trial_name in enumerate(filtered_trial_names):\n",
    "            # print(f\"\\n===== Trial {trial_name} =====\")\n",
    "            # This trial_name should be present in both model and vicon sub-dirs.\n",
    "            model_csv = model_output_path + f\"{trial_name}.csv\"\n",
    "            vicon_csv = vicon_output_path + f\"{trial_name}.csv\"\n",
    "            # Frame number for vicon csv files start from 1, and frame number for\n",
    "            # model csv files start from 0. We need to make adjustments. Frame 0 of\n",
    "            # model refers to frame 1 of vicon.\n",
    "            model_df = pd.read_csv(model_csv, index_col=0)\n",
    "            model_df.index = pd.Index(range(1, len(model_df.index) + 1))\n",
    "\n",
    "            # If frame number x has NaN for model, then we should drop frame number\n",
    "            # x from both model and vicon dataframes.\n",
    "            joint_name = [col for col in model_df.columns if movement[:3] in col][0]\n",
    "            joint_angles_from_model = model_df[joint_name]\n",
    "            joint_angles_from_model.dropna(\n",
    "                inplace=True\n",
    "            )  # drops rows (frames) with NaN in joint_name column from model dataframe\n",
    "\n",
    "            # pick index (frames or rows) without NaN in model AND present in vicon csv\n",
    "            vicon_df = pd.read_csv(\n",
    "                vicon_csv, header=None, index_col=0, names=[joint_name]\n",
    "            )\n",
    "            vicon_df.dropna(inplace=True)\n",
    "\n",
    "            if vicon_df.empty:\n",
    "                print(\n",
    "                    f\"Trial {trial_name} has empty vicon data. Please check. Skipping.\"\n",
    "                )\n",
    "                continue\n",
    "\n",
    "            frames_to_consider = joint_angles_from_model.index.intersection(\n",
    "                vicon_df.index\n",
    "            )\n",
    "\n",
    "            ytrue = vicon_df[joint_name][frames_to_consider].values\n",
    "            ypred = joint_angles_from_model[frames_to_consider].values\n",
    "\n",
    "            metrics = None\n",
    "            if trial_name in train_trials:\n",
    "                ytrain = np.append(ytrain, ytrue)\n",
    "                xtrain = np.append(xtrain, ypred)\n",
    "            else:\n",
    "                assert trial_name in test_trials\n",
    "                assert trial_num >= num_train_trials\n",
    "                if reg is None:\n",
    "                    # Train a linear regression model for post-processing.\n",
    "                    # reg = LinearRegression().fit(xtrain.reshape(-1, 1), ytrain)\n",
    "                    reg = Ridge(alpha=alpha).fit(xtrain.reshape(-1, 1), ytrain)\n",
    "                    # print(\n",
    "                    #     f\"\\nRegression score after training on {num_train_trials} trials from {movement} is {reg.score(xtrain.reshape(-1, 1), ytrain)}.\\n\\tTotal trials = {num_trials}.\\n\\tTraining trials = {len(train_trials)}.\\n\\tTesting trials = {len(test_trials)}.\\n\"\n",
    "                    # )\n",
    "                ypred_reg = reg.predict(ypred.reshape(-1, 1))\n",
    "                metrics = get_stats(ytrue=ytrue, ypred=ypred_reg)\n",
    "\n",
    "            if metrics is not None:\n",
    "                # print(f\"Metrics for trial {trial_name}, movement {movement} is {metrics}.\")\n",
    "                summary[\"AvgRMSE\"] += metrics[\"RMSE\"]\n",
    "                summary[\"AvgMAE\"] += metrics[\"MAE\"]\n",
    "\n",
    "        if test_trials:\n",
    "            summary[\"AvgRMSE\"] = round(summary[\"AvgRMSE\"] / len(test_trials), 2)\n",
    "            summary[\"AvgMAE\"]  = round(summary[\"AvgMAE\"] / len(test_trials), 2)\n",
    "            print(f\"Summary metrics for {movement}: {summary}\")"
   ]
  }
 ],
 "metadata": {
  "kernelspec": {
   "display_name": "Python 3",
   "language": "python",
   "name": "python3"
  },
  "language_info": {
   "codemirror_mode": {
    "name": "ipython",
    "version": 3
   },
   "file_extension": ".py",
   "mimetype": "text/x-python",
   "name": "python",
   "nbconvert_exporter": "python",
   "pygments_lexer": "ipython3",
   "version": "3.6.9"
  }
 },
 "nbformat": 4,
 "nbformat_minor": 5
}
