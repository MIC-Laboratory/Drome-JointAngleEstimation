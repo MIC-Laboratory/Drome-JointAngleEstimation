{
 "cells": [
  {
   "cell_type": "code",
   "execution_count": 37,
   "id": "b97f6579",
   "metadata": {},
   "outputs": [],
   "source": [
    "import os\n",
    "import pandas as pd"
   ]
  },
  {
   "cell_type": "code",
   "execution_count": 38,
   "id": "1f6dad64",
   "metadata": {},
   "outputs": [],
   "source": [
    "MOVEMENTS = (\n",
    "    \"elbflex\",\n",
    "    \"shoabd\",\n",
    "    \"shoext\",\n",
    "    \"shoflex\",\n",
    "    \"hipabd\",\n",
    "    \"hipext\",\n",
    "    \"hipflex\",\n",
    "    \"kneeflex\",\n",
    ")\n",
    "GROUPS = (\n",
    "    \"left\",\n",
    "    \"right\"\n",
    ")"
   ]
  },
  {
   "cell_type": "code",
   "execution_count": null,
   "id": "e7c75d9f",
   "metadata": {},
   "outputs": [],
   "source": [
    "# Get path to participant & movement model generated CSVs.\n",
    "# \n",
    "# trial_info dictionary:\n",
    "# {\n",
    "#   \"dl200\": {\n",
    "#              \"left_upper_elbflex\": {\"total_frames\": 346, \"good_frames\": 70, \"drop_percent\": 0.80},\n",
    "#              \"left_upper_shoabd\":  {...},\n",
    "#              ...\n",
    "#            },\n",
    "#   \"dl201\": { ... },\n",
    "#   ...\n",
    "# }\n",
    "\n",
    "trial_info = dict()\n",
    "for movement in MOVEMENTS:\n",
    "    path = f\"../gen/{movement}/model/\"\n",
    "    for filename in os.listdir(path):\n",
    "        if filename.endswith('.csv'):\n",
    "            participant = filename.split('_')[0] # e.g. dl200\n",
    "            group = [g for g in GROUPS if g in filename][0]\n",
    "            movement = [m for m in MOVEMENTS if m in filename][0]\n",
    "            group_and_movement = f\"{group}_{movement}\"\n",
    "            trial_num = filename.strip('.csv').split('_')[-1]\n",
    "            trial_df = pd.read_csv(f\"{path}/{filename}\", index_col=0)\n",
    "            joint_names = [col for col in trial_df.columns if movement[:3] in col]\n",
    "            if not joint_names:\n",
    "                print(f\"Skipping trial {filename} due to no {movement[:3]} columns.\")\n",
    "                continue\n",
    "            joint_name = joint_names[0]\n",
    "            total_frames = trial_df.shape[0]\n",
    "            good_frames = trial_df[joint_name].dropna().shape[0]\n",
    "            drop_percent = round((total_frames - good_frames) / total_frames, 2)\n",
    "            \n",
    "            trial_info.setdefault(participant, {})\n",
    "            trial_info[participant].setdefault(group_and_movement, {})\n",
    "            trial_info[participant][group_and_movement][trial_num] = {\n",
    "                \"total_frames\": total_frames,\n",
    "                \"good_frames\": good_frames,\n",
    "                \"drop_percent\": drop_percent\n",
    "            }"
   ]
  },
  {
   "cell_type": "code",
   "execution_count": null,
   "id": "e57f586f",
   "metadata": {
    "scrolled": true
   },
   "outputs": [],
   "source": [
    "trial_info"
   ]
  },
  {
   "cell_type": "code",
   "execution_count": null,
   "id": "f59449a7",
   "metadata": {},
   "outputs": [],
   "source": [
    "summary_dict = {}\n",
    "for participant, gm_dict in trial_info.items():\n",
    "    for group_and_movement, trial_dict in gm_dict.items():\n",
    "        drop_percent_avg = 0\n",
    "        for trial_num, info_dict in trial_dict.items():\n",
    "            drop_percent_avg += info_dict['drop_percent']\n",
    "        drop_percent_avg /= len(trial_dict)\n",
    "        summary_dict.setdefault(participant, {})\n",
    "        summary_dict[participant].setdefault(group_and_movement, {})\n",
    "        summary_dict[participant][group_and_movement] = round(drop_percent_avg, 2)"
   ]
  },
  {
   "cell_type": "code",
   "execution_count": null,
   "id": "d2b10ff2",
   "metadata": {
    "scrolled": false
   },
   "outputs": [],
   "source": [
    "pd.set_option('display.max_rows', None)\n",
    "summary_df = pd.DataFrame(summary_dict)\n",
    "summary_df = summary_df.reindex(sorted(summary_df.columns), axis=1)\n",
    "summary_df"
   ]
  }
 ],
 "metadata": {
  "kernelspec": {
   "display_name": "Python 3",
   "language": "python",
   "name": "python3"
  },
  "language_info": {
   "codemirror_mode": {
    "name": "ipython",
    "version": 3
   },
   "file_extension": ".py",
   "mimetype": "text/x-python",
   "name": "python",
   "nbconvert_exporter": "python",
   "pygments_lexer": "ipython3",
   "version": "3.6.9"
  }
 },
 "nbformat": 4,
 "nbformat_minor": 5
}
