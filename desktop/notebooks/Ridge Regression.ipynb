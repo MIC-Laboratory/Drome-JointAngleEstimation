{
 "cells": [
  {
   "cell_type": "code",
   "execution_count": 9,
   "id": "b4d23ebd",
   "metadata": {},
   "outputs": [],
   "source": [
    "import sys\n",
    "sys.path.append(\"../\")\n",
    "from calculate_error import *\n",
    "from IPython.display import Markdown, display\n",
    "from sklearn.linear_model import Ridge"
   ]
  },
  {
   "cell_type": "code",
   "execution_count": 10,
   "id": "bccf4227",
   "metadata": {
    "scrolled": false
   },
   "outputs": [
    {
     "data": {
      "text/markdown": [
       "# Trying ridge regression with alpha 3.2"
      ],
      "text/plain": [
       "<IPython.core.display.Markdown object>"
      ]
     },
     "metadata": {},
     "output_type": "display_data"
    },
    {
     "name": "stdout",
     "output_type": "stream",
     "text": [
      "Summary metrics for shoabd: {'AvgRMSE': 4.02, 'AvgMAE': 3.21}\n",
      "Summary metrics for shoflex: {'AvgRMSE': 6.4, 'AvgMAE': 4.98}\n",
      "Summary metrics for shoext: {'AvgRMSE': 3.46, 'AvgMAE': 2.88}\n",
      "Summary metrics for elbflex: {'AvgRMSE': 7.19, 'AvgMAE': 5.9}\n"
     ]
    },
    {
     "data": {
      "text/markdown": [
       "# Trying ridge regression with alpha 1.3"
      ],
      "text/plain": [
       "<IPython.core.display.Markdown object>"
      ]
     },
     "metadata": {},
     "output_type": "display_data"
    },
    {
     "name": "stdout",
     "output_type": "stream",
     "text": [
      "Summary metrics for shoabd: {'AvgRMSE': 3.94, 'AvgMAE': 3.34}\n",
      "Summary metrics for shoflex: {'AvgRMSE': 6.26, 'AvgMAE': 4.76}\n",
      "Summary metrics for shoext: {'AvgRMSE': 3.14, 'AvgMAE': 2.66}\n",
      "Summary metrics for elbflex: {'AvgRMSE': 7.86, 'AvgMAE': 6.78}\n"
     ]
    },
    {
     "data": {
      "text/markdown": [
       "# Trying ridge regression with alpha 0.6"
      ],
      "text/plain": [
       "<IPython.core.display.Markdown object>"
      ]
     },
     "metadata": {},
     "output_type": "display_data"
    },
    {
     "name": "stdout",
     "output_type": "stream",
     "text": [
      "Summary metrics for shoabd: {'AvgRMSE': 3.83, 'AvgMAE': 3.28}\n",
      "Summary metrics for shoflex: {'AvgRMSE': 5.95, 'AvgMAE': 4.79}\n",
      "Summary metrics for shoext: {'AvgRMSE': 3.27, 'AvgMAE': 2.81}\n",
      "Summary metrics for elbflex: {'AvgRMSE': 7.36, 'AvgMAE': 6.09}\n"
     ]
    },
    {
     "data": {
      "text/markdown": [
       "# Trying ridge regression with alpha 1.65"
      ],
      "text/plain": [
       "<IPython.core.display.Markdown object>"
      ]
     },
     "metadata": {},
     "output_type": "display_data"
    },
    {
     "name": "stdout",
     "output_type": "stream",
     "text": [
      "Summary metrics for shoabd: {'AvgRMSE': 4.34, 'AvgMAE': 3.65}\n",
      "Summary metrics for shoflex: {'AvgRMSE': 6.3, 'AvgMAE': 4.85}\n",
      "Summary metrics for shoext: {'AvgRMSE': 3.19, 'AvgMAE': 2.7}\n",
      "Summary metrics for elbflex: {'AvgRMSE': 7.39, 'AvgMAE': 6.14}\n"
     ]
    },
    {
     "data": {
      "text/markdown": [
       "# Trying ridge regression with alpha 1.86"
      ],
      "text/plain": [
       "<IPython.core.display.Markdown object>"
      ]
     },
     "metadata": {},
     "output_type": "display_data"
    },
    {
     "name": "stdout",
     "output_type": "stream",
     "text": [
      "Summary metrics for shoabd: {'AvgRMSE': 4.59, 'AvgMAE': 3.91}\n",
      "Summary metrics for shoflex: {'AvgRMSE': 6.14, 'AvgMAE': 5.03}\n",
      "Summary metrics for shoext: {'AvgRMSE': 3.58, 'AvgMAE': 3.09}\n",
      "Summary metrics for elbflex: {'AvgRMSE': 7.59, 'AvgMAE': 6.03}\n"
     ]
    },
    {
     "data": {
      "text/markdown": [
       "# Trying ridge regression with alpha 2.49"
      ],
      "text/plain": [
       "<IPython.core.display.Markdown object>"
      ]
     },
     "metadata": {},
     "output_type": "display_data"
    },
    {
     "name": "stdout",
     "output_type": "stream",
     "text": [
      "Summary metrics for shoabd: {'AvgRMSE': 4.28, 'AvgMAE': 3.8}\n",
      "Summary metrics for shoflex: {'AvgRMSE': 6.39, 'AvgMAE': 4.97}\n",
      "Summary metrics for shoext: {'AvgRMSE': 3.2, 'AvgMAE': 2.73}\n",
      "Summary metrics for elbflex: {'AvgRMSE': 8.27, 'AvgMAE': 7.01}\n"
     ]
    },
    {
     "data": {
      "text/markdown": [
       "# Trying ridge regression with alpha 4.53"
      ],
      "text/plain": [
       "<IPython.core.display.Markdown object>"
      ]
     },
     "metadata": {},
     "output_type": "display_data"
    },
    {
     "name": "stdout",
     "output_type": "stream",
     "text": [
      "Summary metrics for shoabd: {'AvgRMSE': 3.96, 'AvgMAE': 3.41}\n",
      "Summary metrics for shoflex: {'AvgRMSE': 6.97, 'AvgMAE': 5.13}\n",
      "Summary metrics for shoext: {'AvgRMSE': 3.47, 'AvgMAE': 2.96}\n",
      "Summary metrics for elbflex: {'AvgRMSE': 7.97, 'AvgMAE': 6.67}\n"
     ]
    },
    {
     "data": {
      "text/markdown": [
       "# Trying ridge regression with alpha 4.24"
      ],
      "text/plain": [
       "<IPython.core.display.Markdown object>"
      ]
     },
     "metadata": {},
     "output_type": "display_data"
    },
    {
     "name": "stdout",
     "output_type": "stream",
     "text": [
      "Summary metrics for shoabd: {'AvgRMSE': 4.01, 'AvgMAE': 3.36}\n",
      "Summary metrics for shoflex: {'AvgRMSE': 7.29, 'AvgMAE': 5.61}\n",
      "Summary metrics for shoext: {'AvgRMSE': 3.42, 'AvgMAE': 2.91}\n",
      "Summary metrics for elbflex: {'AvgRMSE': 7.98, 'AvgMAE': 6.66}\n"
     ]
    },
    {
     "data": {
      "text/markdown": [
       "# Trying ridge regression with alpha 3.29"
      ],
      "text/plain": [
       "<IPython.core.display.Markdown object>"
      ]
     },
     "metadata": {},
     "output_type": "display_data"
    },
    {
     "name": "stdout",
     "output_type": "stream",
     "text": [
      "Summary metrics for shoabd: {'AvgRMSE': 4.1, 'AvgMAE': 3.37}\n",
      "Summary metrics for shoflex: {'AvgRMSE': 6.1, 'AvgMAE': 4.84}\n",
      "Summary metrics for shoext: {'AvgRMSE': 3.28, 'AvgMAE': 2.84}\n",
      "Summary metrics for elbflex: {'AvgRMSE': 7.53, 'AvgMAE': 6.33}\n"
     ]
    },
    {
     "data": {
      "text/markdown": [
       "# Trying ridge regression with alpha 0.68"
      ],
      "text/plain": [
       "<IPython.core.display.Markdown object>"
      ]
     },
     "metadata": {},
     "output_type": "display_data"
    },
    {
     "name": "stdout",
     "output_type": "stream",
     "text": [
      "Summary metrics for shoabd: {'AvgRMSE': 4.45, 'AvgMAE': 3.75}\n",
      "Summary metrics for shoflex: {'AvgRMSE': 5.77, 'AvgMAE': 4.47}\n",
      "Summary metrics for shoext: {'AvgRMSE': 3.32, 'AvgMAE': 2.83}\n",
      "Summary metrics for elbflex: {'AvgRMSE': 7.24, 'AvgMAE': 5.98}\n"
     ]
    },
    {
     "data": {
      "text/markdown": [
       "# Trying ridge regression with alpha 2.9"
      ],
      "text/plain": [
       "<IPython.core.display.Markdown object>"
      ]
     },
     "metadata": {},
     "output_type": "display_data"
    },
    {
     "name": "stdout",
     "output_type": "stream",
     "text": [
      "Summary metrics for shoabd: {'AvgRMSE': 3.72, 'AvgMAE': 3.03}\n",
      "Summary metrics for shoflex: {'AvgRMSE': 5.97, 'AvgMAE': 4.6}\n",
      "Summary metrics for shoext: {'AvgRMSE': 3.4, 'AvgMAE': 2.9}\n",
      "Summary metrics for elbflex: {'AvgRMSE': 7.69, 'AvgMAE': 6.35}\n"
     ]
    },
    {
     "data": {
      "text/markdown": [
       "# Trying ridge regression with alpha 0.44"
      ],
      "text/plain": [
       "<IPython.core.display.Markdown object>"
      ]
     },
     "metadata": {},
     "output_type": "display_data"
    },
    {
     "name": "stdout",
     "output_type": "stream",
     "text": [
      "Summary metrics for shoabd: {'AvgRMSE': 4.15, 'AvgMAE': 3.48}\n",
      "Summary metrics for shoflex: {'AvgRMSE': 5.53, 'AvgMAE': 4.31}\n",
      "Summary metrics for shoext: {'AvgRMSE': 3.35, 'AvgMAE': 2.89}\n",
      "Summary metrics for elbflex: {'AvgRMSE': 7.66, 'AvgMAE': 6.44}\n"
     ]
    },
    {
     "data": {
      "text/markdown": [
       "# Trying ridge regression with alpha 4.35"
      ],
      "text/plain": [
       "<IPython.core.display.Markdown object>"
      ]
     },
     "metadata": {},
     "output_type": "display_data"
    },
    {
     "name": "stdout",
     "output_type": "stream",
     "text": [
      "Summary metrics for shoabd: {'AvgRMSE': 3.91, 'AvgMAE': 3.23}\n",
      "Summary metrics for shoflex: {'AvgRMSE': 5.65, 'AvgMAE': 4.44}\n",
      "Summary metrics for shoext: {'AvgRMSE': 3.55, 'AvgMAE': 3.04}\n",
      "Summary metrics for elbflex: {'AvgRMSE': 8.64, 'AvgMAE': 7.17}\n"
     ]
    },
    {
     "data": {
      "text/markdown": [
       "# Trying ridge regression with alpha 2.58"
      ],
      "text/plain": [
       "<IPython.core.display.Markdown object>"
      ]
     },
     "metadata": {},
     "output_type": "display_data"
    },
    {
     "name": "stdout",
     "output_type": "stream",
     "text": [
      "Summary metrics for shoabd: {'AvgRMSE': 4.23, 'AvgMAE': 3.45}\n",
      "Summary metrics for shoflex: {'AvgRMSE': 7.07, 'AvgMAE': 5.25}\n",
      "Summary metrics for shoext: {'AvgRMSE': 3.47, 'AvgMAE': 2.96}\n",
      "Summary metrics for elbflex: {'AvgRMSE': 7.55, 'AvgMAE': 6.36}\n"
     ]
    },
    {
     "data": {
      "text/markdown": [
       "# Trying ridge regression with alpha 1.3"
      ],
      "text/plain": [
       "<IPython.core.display.Markdown object>"
      ]
     },
     "metadata": {},
     "output_type": "display_data"
    },
    {
     "name": "stdout",
     "output_type": "stream",
     "text": [
      "Summary metrics for shoabd: {'AvgRMSE': 3.78, 'AvgMAE': 3.24}\n",
      "Summary metrics for shoflex: {'AvgRMSE': 6.22, 'AvgMAE': 4.96}\n",
      "Summary metrics for shoext: {'AvgRMSE': 3.14, 'AvgMAE': 2.68}\n",
      "Summary metrics for elbflex: {'AvgRMSE': 8.18, 'AvgMAE': 6.8}\n"
     ]
    },
    {
     "data": {
      "text/markdown": [
       "# Trying ridge regression with alpha 0.07"
      ],
      "text/plain": [
       "<IPython.core.display.Markdown object>"
      ]
     },
     "metadata": {},
     "output_type": "display_data"
    },
    {
     "name": "stdout",
     "output_type": "stream",
     "text": [
      "Summary metrics for shoabd: {'AvgRMSE': 4.35, 'AvgMAE': 3.77}\n",
      "Summary metrics for shoflex: {'AvgRMSE': 6.74, 'AvgMAE': 5.21}\n",
      "Summary metrics for shoext: {'AvgRMSE': 3.69, 'AvgMAE': 3.18}\n",
      "Summary metrics for elbflex: {'AvgRMSE': 7.84, 'AvgMAE': 6.64}\n"
     ]
    },
    {
     "data": {
      "text/markdown": [
       "# Trying ridge regression with alpha 4.46"
      ],
      "text/plain": [
       "<IPython.core.display.Markdown object>"
      ]
     },
     "metadata": {},
     "output_type": "display_data"
    },
    {
     "name": "stdout",
     "output_type": "stream",
     "text": [
      "Summary metrics for shoabd: {'AvgRMSE': 4.15, 'AvgMAE': 3.48}\n",
      "Summary metrics for shoflex: {'AvgRMSE': 6.22, 'AvgMAE': 4.91}\n",
      "Summary metrics for shoext: {'AvgRMSE': 3.6, 'AvgMAE': 3.13}\n",
      "Summary metrics for elbflex: {'AvgRMSE': 8.15, 'AvgMAE': 6.75}\n"
     ]
    },
    {
     "data": {
      "text/markdown": [
       "# Trying ridge regression with alpha 2.4"
      ],
      "text/plain": [
       "<IPython.core.display.Markdown object>"
      ]
     },
     "metadata": {},
     "output_type": "display_data"
    },
    {
     "name": "stdout",
     "output_type": "stream",
     "text": [
      "Summary metrics for shoabd: {'AvgRMSE': 4.03, 'AvgMAE': 3.48}\n",
      "Summary metrics for shoflex: {'AvgRMSE': 6.28, 'AvgMAE': 4.89}\n",
      "Summary metrics for shoext: {'AvgRMSE': 3.92, 'AvgMAE': 3.37}\n",
      "Summary metrics for elbflex: {'AvgRMSE': 7.82, 'AvgMAE': 6.49}\n"
     ]
    },
    {
     "data": {
      "text/markdown": [
       "# Trying ridge regression with alpha 4.56"
      ],
      "text/plain": [
       "<IPython.core.display.Markdown object>"
      ]
     },
     "metadata": {},
     "output_type": "display_data"
    },
    {
     "name": "stdout",
     "output_type": "stream",
     "text": [
      "Summary metrics for shoabd: {'AvgRMSE': 4.34, 'AvgMAE': 3.75}\n",
      "Summary metrics for shoflex: {'AvgRMSE': 6.69, 'AvgMAE': 4.98}\n",
      "Summary metrics for shoext: {'AvgRMSE': 3.34, 'AvgMAE': 2.83}\n",
      "Summary metrics for elbflex: {'AvgRMSE': 7.9, 'AvgMAE': 6.72}\n"
     ]
    },
    {
     "data": {
      "text/markdown": [
       "# Trying ridge regression with alpha 2.83"
      ],
      "text/plain": [
       "<IPython.core.display.Markdown object>"
      ]
     },
     "metadata": {},
     "output_type": "display_data"
    },
    {
     "name": "stdout",
     "output_type": "stream",
     "text": [
      "Summary metrics for shoabd: {'AvgRMSE': 4.33, 'AvgMAE': 3.76}\n",
      "Summary metrics for shoflex: {'AvgRMSE': 6.18, 'AvgMAE': 4.77}\n",
      "Summary metrics for shoext: {'AvgRMSE': 3.31, 'AvgMAE': 2.82}\n",
      "Summary metrics for elbflex: {'AvgRMSE': 7.98, 'AvgMAE': 6.77}\n"
     ]
    }
   ],
   "source": [
    "collect_model_vicon_csvs()\n",
    "movements = next(os.walk(GEN_PATH))[1]\n",
    "\n",
    "for _ in range(20):\n",
    "    alpha = round(random.uniform(0, 5), 2)\n",
    "    display(Markdown(f\"# Trying ridge regression with alpha {alpha}\"))\n",
    "    for movement in movements:\n",
    "        assert movement in MOVEMENTS\n",
    "        movement_path = f\"{GEN_PATH}/{movement}/\"\n",
    "        # display(Markdown(f\"## Evaluating error for {movement}\\n\"))\n",
    "        model_output_path = movement_path + \"model/\"\n",
    "        vicon_output_path = movement_path + \"vicon/\"\n",
    "        filtered_trial_names = get_filtered_trials(movement=movement)\n",
    "        num_trials = len(filtered_trial_names)\n",
    "\n",
    "        random.shuffle(filtered_trial_names)\n",
    "        num_train_trials = round(\n",
    "            0.80 * num_trials\n",
    "        )  # assuming 80-20 split for train and test\n",
    "        train_trials = filtered_trial_names[:num_train_trials]\n",
    "        test_trials = filtered_trial_names[num_train_trials:]\n",
    "        train_trials.sort()\n",
    "        test_trials.sort()\n",
    "        xtrain, ytrain = [], []\n",
    "        reg = None\n",
    "        filtered_trial_names = train_trials + test_trials\n",
    "\n",
    "        summary = {\"AvgRMSE\": 0, \"AvgMAE\": 0}\n",
    "        for trial_num, trial_name in enumerate(filtered_trial_names):\n",
    "            # print(f\"\\n===== Trial {trial_name} =====\")\n",
    "            # This trial_name should be present in both model and vicon sub-dirs.\n",
    "            model_csv = model_output_path + f\"{trial_name}.csv\"\n",
    "            vicon_csv = vicon_output_path + f\"{trial_name}.csv\"\n",
    "            # Frame number for vicon csv files start from 1, and frame number for\n",
    "            # model csv files start from 0. We need to make adjustments. Frame 0 of\n",
    "            # model refers to frame 1 of vicon.\n",
    "            model_df = pd.read_csv(model_csv, index_col=0)\n",
    "            model_df.index = pd.Index(range(1, len(model_df.index) + 1))\n",
    "\n",
    "            # If frame number x has NaN for model, then we should drop frame number\n",
    "            # x from both model and vicon dataframes.\n",
    "            joint_name = [col for col in model_df.columns if movement[:3] in col][0]\n",
    "            joint_angles_from_model = model_df[joint_name]\n",
    "            joint_angles_from_model.dropna(\n",
    "                inplace=True\n",
    "            )  # drops rows (frames) with NaN in joint_name column from model dataframe\n",
    "\n",
    "            # pick index (frames or rows) without NaN in model AND present in vicon csv\n",
    "            vicon_df = pd.read_csv(\n",
    "                vicon_csv, header=None, index_col=0, names=[joint_name]\n",
    "            )\n",
    "            vicon_df.dropna(inplace=True)\n",
    "\n",
    "            if vicon_df.empty:\n",
    "                print(\n",
    "                    f\"Trial {trial_name} has empty vicon data. Please check. Skipping.\"\n",
    "                )\n",
    "                continue\n",
    "\n",
    "            frames_to_consider = joint_angles_from_model.index.intersection(\n",
    "                vicon_df.index\n",
    "            )\n",
    "\n",
    "            ytrue = vicon_df[joint_name][frames_to_consider].values\n",
    "            ypred = joint_angles_from_model[frames_to_consider].values\n",
    "\n",
    "            metrics = None\n",
    "            if trial_name in train_trials:\n",
    "                ytrain = np.append(ytrain, ytrue)\n",
    "                xtrain = np.append(xtrain, ypred)\n",
    "            else:\n",
    "                assert trial_name in test_trials\n",
    "                assert trial_num >= num_train_trials\n",
    "                if reg is None:\n",
    "                    # Train a linear regression model for post-processing.\n",
    "                    # reg = LinearRegression().fit(xtrain.reshape(-1, 1), ytrain)\n",
    "                    reg = Ridge(alpha=alpha).fit(xtrain.reshape(-1, 1), ytrain)\n",
    "                    # print(\n",
    "                    #     f\"\\nRegression score after training on {num_train_trials} trials from {movement} is {reg.score(xtrain.reshape(-1, 1), ytrain)}.\\n\\tTotal trials = {num_trials}.\\n\\tTraining trials = {len(train_trials)}.\\n\\tTesting trials = {len(test_trials)}.\\n\"\n",
    "                    # )\n",
    "                ypred_reg = reg.predict(ypred.reshape(-1, 1))\n",
    "                metrics = get_stats(ytrue=ytrue, ypred=ypred_reg)\n",
    "\n",
    "            if metrics is not None:\n",
    "                # print(f\"Metrics for trial {trial_name}, movement {movement} is {metrics}.\")\n",
    "                summary[\"AvgRMSE\"] += metrics[\"RMSE\"]\n",
    "                summary[\"AvgMAE\"] += metrics[\"MAE\"]\n",
    "\n",
    "        if test_trials:\n",
    "            summary[\"AvgRMSE\"] = round(summary[\"AvgRMSE\"] / len(test_trials), 2)\n",
    "            summary[\"AvgMAE\"]  = round(summary[\"AvgMAE\"] / len(test_trials), 2)\n",
    "            print(f\"Summary metrics for {movement}: {summary}\")"
   ]
  }
 ],
 "metadata": {
  "kernelspec": {
   "display_name": "Python 3",
   "language": "python",
   "name": "python3"
  },
  "language_info": {
   "codemirror_mode": {
    "name": "ipython",
    "version": 3
   },
   "file_extension": ".py",
   "mimetype": "text/x-python",
   "name": "python",
   "nbconvert_exporter": "python",
   "pygments_lexer": "ipython3",
   "version": "3.6.9"
  }
 },
 "nbformat": 4,
 "nbformat_minor": 5
}
